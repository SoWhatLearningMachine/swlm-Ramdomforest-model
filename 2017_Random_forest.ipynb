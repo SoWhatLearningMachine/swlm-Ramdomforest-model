{
  "nbformat": 4,
  "nbformat_minor": 0,
  "metadata": {
    "colab": {
      "name": "2017_Random_forest.ipynb",
      "provenance": [],
      "collapsed_sections": [],
      "toc_visible": true
    },
    "kernelspec": {
      "name": "python3",
      "display_name": "Python 3"
    },
    "language_info": {
      "name": "python"
    },
    "accelerator": "GPU"
  },
  "cells": [
    {
      "cell_type": "code",
      "execution_count": null,
      "metadata": {
        "id": "EXIwJj6PLUvo"
      },
      "outputs": [],
      "source": [
        "#라이브러리 설정\n",
        "import pandas as pd\n",
        "import numpy as np\n",
        "import matplotlib.pyplot as plt\n",
        "import seaborn as sns\n",
        "from sklearn.metrics import classification_report\n",
        "from sklearn.model_selection import train_test_split\n",
        "from sklearn.ensemble import RandomForestClassifier\n",
        "from sklearn.model_selection import cross_val_score , cross_validate\n",
        "\n",
        "import warnings\n",
        "warnings.filterwarnings('ignore')"
      ]
    },
    {
      "cell_type": "code",
      "source": [
        "from google.colab import drive\n",
        "drive.mount('/content/drive')"
      ],
      "metadata": {
        "colab": {
          "base_uri": "https://localhost:8080/"
        },
        "id": "rWfhekBmLeZo",
        "outputId": "5a2c1bcf-367a-4263-9cec-98cab5a07711"
      },
      "execution_count": null,
      "outputs": [
        {
          "output_type": "stream",
          "name": "stdout",
          "text": [
            "Drive already mounted at /content/drive; to attempt to forcibly remount, call drive.mount(\"/content/drive\", force_remount=True).\n"
          ]
        }
      ]
    },
    {
      "cell_type": "code",
      "source": [
        "# 평가지표 \n",
        "from sklearn.metrics import confusion_matrix, accuracy_score\n",
        "from sklearn.metrics import precision_score, recall_score\n",
        "from sklearn.metrics import f1_score\n",
        "\n",
        "def get_clf_eval(y_test, pred=None):\n",
        "    confusion = confusion_matrix( y_test, pred)\n",
        "    accuracy = accuracy_score(y_test , pred)\n",
        "    precision = precision_score(y_test , pred, average='macro')\n",
        "    recall = recall_score(y_test , pred, average='macro')\n",
        "    f1 = f1_score(y_test,pred, average='macro')\n",
        "    print('오차 행렬')\n",
        "    print(confusion)\n",
        "    print('정확도: {0:.4f}, 정밀도: {1:.4f}, 재현율: {2:.4f},\\\n",
        "    F1: {3:.4f}'.format(accuracy, precision, recall, f1))"
      ],
      "metadata": {
        "id": "iIO9fOmNUH1F"
      },
      "execution_count": null,
      "outputs": []
    },
    {
      "cell_type": "markdown",
      "source": [
        "##  NO TEXT Data"
      ],
      "metadata": {
        "id": "13SMd5I9NIGI"
      }
    },
    {
      "cell_type": "code",
      "source": [
        "data_no_text=pd.read_csv('/content/drive/MyDrive/preprocessed/KNOW_2017_train_no_text.csv')"
      ],
      "metadata": {
        "id": "gSrxNYkGMhJP"
      },
      "execution_count": null,
      "outputs": []
    },
    {
      "cell_type": "code",
      "source": [
        "data_no_text_test=pd.read_csv('/content/drive/MyDrive/preprocessed/KNOW_2017_test_no_text.csv')"
      ],
      "metadata": {
        "id": "hXIGFx_cTc9m"
      },
      "execution_count": null,
      "outputs": []
    },
    {
      "cell_type": "code",
      "source": [
        "X, y = data_no_text.drop([\"knowcode\",\"index\"],axis=1), data_no_text.knowcode\n"
      ],
      "metadata": {
        "id": "KRin8nKIQZ2X"
      },
      "execution_count": null,
      "outputs": []
    },
    {
      "cell_type": "code",
      "source": [
        "X_test, y_test = data_no_text_test.drop(\"index\", axis=1), data_no_text_test.index"
      ],
      "metadata": {
        "id": "hUxIbBHITmf-"
      },
      "execution_count": null,
      "outputs": []
    },
    {
      "cell_type": "code",
      "source": [
        "from sklearn.model_selection import GridSearchCV\n",
        "\n",
        "params = { 'n_estimators' : [10, 100],\n",
        "           'min_samples_leaf' : [1 ,2, 4],\n",
        "           'min_samples_split' : [2, 4]\n",
        "            }\n",
        "\n",
        "# RandomForestClassifier 객체 생성 후 GridSearchCV 수행\n",
        "rfc = RandomForestClassifier(random_state = 0, n_jobs = -1)\n",
        "grid_cv = GridSearchCV(rfc, param_grid = params, cv = 5, n_jobs = -1)\n",
        "grid_cv.fit(X, y)\n",
        "\n",
        "print('최적 하이퍼 파라미터: ', grid_cv.best_params_)\n",
        "print('최고 예측 정확도: {:.4f}'.format(grid_cv.best_score_))"
      ],
      "metadata": {
        "id": "Sr7SlF41POZY"
      },
      "execution_count": null,
      "outputs": []
    },
    {
      "cell_type": "code",
      "source": [
        "# NO hyperparameter Tuning\n",
        "rfc = RandomForestClassifier(random_state=0,min_samples_leaf=1,min_samples_split=2,n_estimators=100)\n",
        "rfc.fit(X, y)\n"
      ],
      "metadata": {
        "colab": {
          "base_uri": "https://localhost:8080/"
        },
        "id": "NulLhMgSRzIW",
        "outputId": "a0440daa-d807-4dda-b4ca-b3f0f7d9bbff"
      },
      "execution_count": null,
      "outputs": [
        {
          "output_type": "execute_result",
          "data": {
            "text/plain": [
              "RandomForestClassifier(random_state=0)"
            ]
          },
          "metadata": {},
          "execution_count": 8
        }
      ]
    },
    {
      "cell_type": "code",
      "source": [
        "data_no_text_test['knowcode'] = rfc.predict(X_test)\n",
        "data_no_text_test.to_csv('KNOW_2017_test_no_text.csv',index=False)"
      ],
      "metadata": {
        "id": "mPdNjz2GTVb_"
      },
      "execution_count": null,
      "outputs": []
    },
    {
      "cell_type": "markdown",
      "source": [
        "## simcse"
      ],
      "metadata": {
        "id": "bSHBTBBIJV8L"
      }
    },
    {
      "cell_type": "code",
      "source": [
        "data_simcse=pd.read_csv('/content/drive/MyDrive/preprocessed/KNOW_2017_train_simcse.csv')\n",
        "data_simcse_test=pd.read_csv('/content/drive/MyDrive/preprocessed/KNOW_2017_test_simcse.csv')"
      ],
      "metadata": {
        "id": "bcFF2ovdaVXr"
      },
      "execution_count": null,
      "outputs": []
    },
    {
      "cell_type": "code",
      "source": [
        "X, y = data_simcse.drop([\"knowcode\",\"index\"],axis=1), data_simcse.knowcode"
      ],
      "metadata": {
        "id": "TYKO9jGuJUAA"
      },
      "execution_count": null,
      "outputs": []
    },
    {
      "cell_type": "code",
      "source": [
        "X_test, y_test = data_simcse_test.drop(\"index\", axis=1), data_simcse_test.index"
      ],
      "metadata": {
        "id": "6rMJq09CeBS3"
      },
      "execution_count": null,
      "outputs": []
    },
    {
      "cell_type": "code",
      "source": [
        "from sklearn.model_selection import GridSearchCV\n",
        "\n",
        "params = { 'n_estimators' : [10, 100],\n",
        "           'min_samples_leaf' : [1 ,2, 4,5],\n",
        "           'min_samples_split' : [2, 4,5,10]\n",
        "            }\n",
        "\n",
        "# RandomForestClassifier 객체 생성 후 GridSearchCV 수행\n",
        "rfc = RandomForestClassifier(random_state = 0, n_jobs = -1)\n",
        "grid_cv = GridSearchCV(rfc, param_grid = params, cv = 5, n_jobs = -1)\n",
        "grid_cv.fit(X, y)\n",
        "\n",
        "print('최적 하이퍼 파라미터: ', grid_cv.best_params_)\n",
        "print('최고 예측 정확도: {:.4f}'.format(grid_cv.best_score_))"
      ],
      "metadata": {
        "colab": {
          "base_uri": "https://localhost:8080/"
        },
        "id": "Z7sXP0aoeH4A",
        "outputId": "7fc58285-c1f2-4846-86cc-929315c89ac1"
      },
      "execution_count": null,
      "outputs": [
        {
          "output_type": "stream",
          "name": "stdout",
          "text": [
            "최적 하이퍼 파라미터:  {'min_samples_leaf': 1, 'min_samples_split': 2, 'n_estimators': 100}\n",
            "최고 예측 정확도: 0.6200\n"
          ]
        }
      ]
    },
    {
      "cell_type": "code",
      "source": [
        "# NO hyperparameter Tuning\n",
        "rfc = RandomForestClassifier(random_state=0,min_samples_leaf=1,min_samples_split=2,n_estimators=100)\n",
        "rfc.fit(X, y)\n"
      ],
      "metadata": {
        "colab": {
          "base_uri": "https://localhost:8080/"
        },
        "id": "RIZAJyMGhYHz",
        "outputId": "13082f04-2fcf-4606-de75-a4063ef3b629"
      },
      "execution_count": null,
      "outputs": [
        {
          "output_type": "execute_result",
          "data": {
            "text/plain": [
              "RandomForestClassifier(random_state=0)"
            ]
          },
          "metadata": {},
          "execution_count": 13
        }
      ]
    },
    {
      "cell_type": "code",
      "source": [
        "data_simcse_test['knowcode'] = rfc.predict(X_test)\n",
        "data_simcse_test.to_csv('KNOW_2017_test_simcse.csv',index=False)"
      ],
      "metadata": {
        "id": "MsmMEyuiha1f"
      },
      "execution_count": null,
      "outputs": []
    },
    {
      "cell_type": "markdown",
      "source": [
        "## Bert\n"
      ],
      "metadata": {
        "id": "QwRN3-Ptyeg8"
      }
    },
    {
      "cell_type": "code",
      "source": [
        "data_bert=pd.read_csv('/content/drive/MyDrive/preprocessed/KNOW_2017_train_bert.csv')\n",
        "data_bert_test=pd.read_csv('/content/drive/MyDrive/preprocessed/KNOW_2017_test_bert.csv')"
      ],
      "metadata": {
        "id": "egFkx0fiyyxW"
      },
      "execution_count": null,
      "outputs": []
    },
    {
      "cell_type": "code",
      "source": [
        "X, y = data_bert.drop([\"knowcode\",\"index\"],axis=1), data_bert.knowcode"
      ],
      "metadata": {
        "id": "tcMwe9kEzKWC"
      },
      "execution_count": null,
      "outputs": []
    },
    {
      "cell_type": "code",
      "source": [
        "X_test, y_test = data_bert_test.drop(\"index\", axis=1), data_bert_test.index"
      ],
      "metadata": {
        "id": "ROnUWiulzaJm"
      },
      "execution_count": null,
      "outputs": []
    },
    {
      "cell_type": "code",
      "source": [
        "from sklearn.model_selection import GridSearchCV\n",
        "\n",
        "params = { 'n_estimators' : [100],\n",
        "           'min_samples_leaf' : [1,2, 4,5],\n",
        "           'min_samples_split' : [2, 4,5,10]\n",
        "            }\n",
        "\n",
        "# RandomForestClassifier 객체 생성 후 GridSearchCV 수행\n",
        "rfc = RandomForestClassifier(random_state = 0, n_jobs = -1)\n",
        "grid_cv = GridSearchCV(rfc, param_grid = params, cv = 5, n_jobs = -1)\n",
        "grid_cv.fit(X, y)\n",
        "\n",
        "print('최적 하이퍼 파라미터: ', grid_cv.best_params_)\n",
        "print('최고 예측 정확도: {:.4f}'.format(grid_cv.best_score_))"
      ],
      "metadata": {
        "colab": {
          "base_uri": "https://localhost:8080/"
        },
        "id": "FY1bplATzcf4",
        "outputId": "633adb7e-fe53-439b-8627-65820c09a7c5"
      },
      "execution_count": null,
      "outputs": [
        {
          "output_type": "stream",
          "name": "stdout",
          "text": [
            "최적 하이퍼 파라미터:  {'min_samples_leaf': 1, 'min_samples_split': 2, 'n_estimators': 100}\n",
            "최고 예측 정확도: 0.5619\n"
          ]
        }
      ]
    },
    {
      "cell_type": "code",
      "source": [
        "# NO hyperparameter Tuning\n",
        "rfc = RandomForestClassifier(random_state=0,min_samples_leaf=1,min_samples_split=2,n_estimators=100)\n",
        "rfc.fit(X, y)"
      ],
      "metadata": {
        "colab": {
          "base_uri": "https://localhost:8080/"
        },
        "id": "HNblQC1JznBt",
        "outputId": "348008bb-102b-4311-c4c1-2cc3fc532e1a"
      },
      "execution_count": null,
      "outputs": [
        {
          "output_type": "execute_result",
          "data": {
            "text/plain": [
              "RandomForestClassifier(random_state=0)"
            ]
          },
          "metadata": {},
          "execution_count": 9
        }
      ]
    },
    {
      "cell_type": "code",
      "source": [
        "data_bert_test['knowcode'] = rfc.predict(X_test)\n",
        "data_bert_test.to_csv('KNOW_2017_test_bert.csv',index=False)"
      ],
      "metadata": {
        "id": "YbTWL79_7p0c"
      },
      "execution_count": null,
      "outputs": []
    },
    {
      "cell_type": "markdown",
      "source": [
        "## TF-IDF\n"
      ],
      "metadata": {
        "id": "sj6ZOATi-jrN"
      }
    },
    {
      "cell_type": "code",
      "source": [
        "data_tf_idf=pd.read_csv('/content/drive/MyDrive/preprocessed/KNOW_2017_train_tfidf.csv')\n",
        "data_tf_idf_test=pd.read_csv('/content/drive/MyDrive/preprocessed/KNOW_2017_test_tfidf.csv')"
      ],
      "metadata": {
        "id": "L-ahjc9t-mDl"
      },
      "execution_count": null,
      "outputs": []
    },
    {
      "cell_type": "code",
      "source": [
        "X, y = data_tf_idf.drop([\"knowcode\",\"index\"],axis=1), data_tf_idf.knowcode"
      ],
      "metadata": {
        "id": "lh7_-7rtGd-r"
      },
      "execution_count": null,
      "outputs": []
    },
    {
      "cell_type": "code",
      "source": [
        "X_test, y_test = data_tf_idf_test.drop(\"index\", axis=1), data_tf_idf_test.index"
      ],
      "metadata": {
        "id": "X067_GcvEcfK"
      },
      "execution_count": null,
      "outputs": []
    },
    {
      "cell_type": "code",
      "source": [
        "from sklearn.model_selection import GridSearchCV\n",
        "\n",
        "rfc = RandomForestClassifier(random_state=0,min_samples_leaf=1,min_samples_split=2,n_estimators=100)\n",
        "scores=cross_val_score(rfc,X,y,scoring='accuracy',cv=3)\n",
        "\n",
        "\n",
        "\n",
        "\n",
        "print('교차 검증 정확도: {:.4f}'.format(np.round(scores,4)))"
      ],
      "metadata": {
        "id": "d5kQcvs7ZIvz"
      },
      "execution_count": null,
      "outputs": []
    },
    {
      "cell_type": "code",
      "source": [
        "# NO hyperparameter Tuning\n",
        "rfc = RandomForestClassifier(random_state=0,min_samples_leaf=1,min_samples_split=2,n_estimators=100)\n",
        "rfc.fit(X, y)"
      ],
      "metadata": {
        "id": "zhRgEsdsGxu6"
      },
      "execution_count": null,
      "outputs": []
    }
  ]
}